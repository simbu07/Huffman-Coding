{
 "cells": [
  {
   "cell_type": "code",
   "execution_count": 1,
   "id": "9d3b183c-f83e-4fbf-a94c-8bbcd0cc7b38",
   "metadata": {},
   "outputs": [],
   "source": [
    "string = 'Silambarasan 212221230101'"
   ]
  },
  {
   "cell_type": "code",
   "execution_count": 2,
   "id": "107dad0a-c24e-4a68-a2e1-aebc6712130c",
   "metadata": {},
   "outputs": [],
   "source": [
    "# Creating tree nodes:\n",
    "\n",
    "class NodeTree(object):\n",
    "    \n",
    "    def __init__(self, left=None, right=None): \n",
    "        self.left = left\n",
    "        self.right=right\n",
    "        \n",
    "    def children(self):\n",
    "        return (self.left,self.right)"
   ]
  },
  {
   "cell_type": "code",
   "execution_count": 3,
   "id": "6ab26869-d52a-4bf0-9401-e6de001d6356",
   "metadata": {},
   "outputs": [],
   "source": [
    "# Main function implementing huffman coding:\n",
    "\n",
    "def huffman_code_tree (node, left=True, binString=''):\n",
    "    if type(node) is str:\n",
    "        return {node: binString}\n",
    "    (l, r) = node.children()\n",
    "    d = dict()\n",
    "    d.update(huffman_code_tree (l, True, binString + '0'))\n",
    "    d.update(huffman_code_tree (r, False, binString + '1'))\n",
    "    return d"
   ]
  },
  {
   "cell_type": "code",
   "execution_count": 4,
   "id": "3b2e4daa-3d36-4f19-a873-27e4269ac833",
   "metadata": {},
   "outputs": [],
   "source": [
    "# Calculating frequency:\n",
    "\n",
    "freq = {}\n",
    "for c in string:\n",
    "    if c in freq:\n",
    "        freq[c] += 1\n",
    "    else:\n",
    "        freq[c] = 1\n",
    "        \n",
    "freq = sorted(freq.items(), key=lambda x: x[1], reverse=True)\n",
    "\n",
    "nodes = freq"
   ]
  },
  {
   "cell_type": "code",
   "execution_count": 5,
   "id": "8fe67226-f370-4431-9c13-ea2c3efb36ff",
   "metadata": {},
   "outputs": [],
   "source": [
    "# Calculate frequency of occurrence:\n",
    "\n",
    "while len(nodes)>1:\n",
    "    (key1,c1)=nodes[-1]\n",
    "    (key2,c2)=nodes[-2]\n",
    "    nodes = nodes[:-2]\n",
    "    node = NodeTree (key1, key2)\n",
    "    nodes.append((node,c1 + c2))\n",
    "    \n",
    "    nodes = sorted (nodes, key=lambda x: x[1], reverse=True)"
   ]
  },
  {
   "cell_type": "code",
   "execution_count": 6,
   "id": "d9a69a8e-7eed-4949-9eaf-75fcba6871c0",
   "metadata": {},
   "outputs": [
    {
     "name": "stdout",
     "output_type": "stream",
     "text": [
      "#*#*#*#*#*#*#*#*#*#*#*#\n",
      " Char | Huffman code \n",
      "#*#*#*#*#*#*#*#*#*#*#*#\n",
      "'2'  |          01\n",
      "'a'  |          00\n",
      "'1'  |         101\n",
      "'0'  |        1101\n",
      "'S'  |       10001\n",
      "'i'  |       10000\n",
      "'l'  |       10011\n",
      "'m'  |       10010\n",
      "'b'  |       11101\n",
      "'r'  |       11100\n",
      "'s'  |       11111\n",
      "'n'  |       11110\n",
      "' '  |       11001\n",
      "'3'  |       11000\n"
     ]
    }
   ],
   "source": [
    "# Print the characters and its huffman_code:\n",
    "\n",
    "huffmanCode = huffman_code_tree(nodes[0][0])\n",
    "print('#*#*#*#*#*#*#*#*#*#*#*#')\n",
    "print(' Char | Huffman code ') \n",
    "print('#*#*#*#*#*#*#*#*#*#*#*#')\n",
    "for (char, frequency) in freq:\n",
    "    print('%-4r |%12s' %(char,huffmanCode[char]))"
   ]
  }
 ],
 "metadata": {
  "kernelspec": {
   "display_name": "Python 3 (ipykernel)",
   "language": "python",
   "name": "python3"
  },
  "language_info": {
   "codemirror_mode": {
    "name": "ipython",
    "version": 3
   },
   "file_extension": ".py",
   "mimetype": "text/x-python",
   "name": "python",
   "nbconvert_exporter": "python",
   "pygments_lexer": "ipython3",
   "version": "3.11.2"
  }
 },
 "nbformat": 4,
 "nbformat_minor": 5
}
